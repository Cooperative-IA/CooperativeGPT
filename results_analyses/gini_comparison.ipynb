{
 "cells": [
  {
   "cell_type": "code",
   "execution_count": 4,
   "metadata": {},
   "outputs": [],
   "source": [
    "import numpy as np\n",
    "# Calculate the gini coefficient\n",
    "def gini(x):\n",
    "    \"\"\"\n",
    "    Calculate the Gini coefficient of a numpy array.\n",
    "\n",
    "    Parameters:\n",
    "    x (numpy array): The array with the values, wher\n",
    "    \"\"\"\n",
    "    # Mean absolute difference\n",
    "    mad = np.abs(np.subtract.outer(x, x)).mean()\n",
    "    # Relative mean absolute difference\n",
    "    rmad = mad/np.mean(x)\n",
    "    # Gini coefficient\n",
    "    g = 0.5 * rmad\n",
    "    return g"
   ]
  },
  {
   "cell_type": "code",
   "execution_count": 5,
   "metadata": {},
   "outputs": [],
   "source": [
    "mushrroms = {\n",
    "    'CoTAgent': {\n",
    "        'gpt4o_mini': [\n",
    "            {'Juan': 20, 'Bot': 15},\n",
    "            {'Juan': 45, 'Bot': -6},\n",
    "            {'Juan': 41, 'Bot': 16},\n",
    "            {'Juan': 50, 'Bot': 6},\n",
    "            {'Juan': 25, 'Bot': 13},\n",
    "            {'Juan': -13, 'Bot': 47},\n",
    "            {'Juan': 17, 'Bot': 24},\n",
    "            {'Juan': 35, 'Bot': 17},\n",
    "            {'Juan': 36, 'Bot': 13},\n",
    "            {'Juan': 18, 'Bot': 12}],\n",
    "        'gpt4o': [\n",
    "            {'Juan': 60, 'Bot': 15},\n",
    "            {'Juan': -12, 'Bot': 13},\n",
    "            {'Juan': 26, 'Bot': 2},\n",
    "            {'Juan': 29, 'Bot': 17},\n",
    "            {'Juan': 11, 'Bot': 8},\n",
    "            {'Juan': 14, 'Bot': 30},\n",
    "            {'Juan': 29, 'Bot': 17},\n",
    "            {'Juan': 60, 'Bot': -5},\n",
    "            {'Juan': -5, 'Bot': 32},\n",
    "            {'Juan': 12, 'Bot': 37}]\n",
    "        },\n",
    " 'GenerativeAgents': {\n",
    "    'gpt4o_mini': [\n",
    "        {'Juan': 36, 'Bot': 32},\n",
    "        {'Juan': 33, 'Bot': 27},\n",
    "        {'Juan': 37, 'Bot': 3},\n",
    "        {'Juan': 43, 'Bot': 30},\n",
    "        {'Juan': -9, 'Bot': 10},\n",
    "        {'Juan': 11, 'Bot': 6},\n",
    "        {'Juan': 50, 'Bot': 20},\n",
    "        {'Juan': 28, 'Bot': 31},\n",
    "        {'Juan': 47, 'Bot': 21},\n",
    "        {'Juan': 36, 'Bot': 22}],\n",
    "    'gpt4o': [\n",
    "        {'Juan': 54, 'Bot': 1},\n",
    "        {'Juan': 34, 'Bot': 4},\n",
    "        {'Juan': 42, 'Bot': 21},\n",
    "        {'Juan': 16, 'Bot': 18},\n",
    "        {'Juan': 48, 'Bot': 14},\n",
    "        {'Juan': 57, 'Bot': 23},\n",
    "        {'Juan': 28, 'Bot': 11},\n",
    "        {'Juan': 14, 'Bot': 18},\n",
    "        {'Juan': 27, 'Bot': 20},\n",
    "        {'Juan': 18, 'Bot': 18}]\n",
    "    }\n",
    "}"
   ]
  },
  {
   "cell_type": "code",
   "execution_count": 6,
   "metadata": {},
   "outputs": [],
   "source": [
    "def get_indicator_by_simulation(indicators, indicator_name):\n",
    "    \"\"\"\n",
    "    Returns a list with the value of the indicator scpecified for each simulation\n",
    "    \"\"\"\n",
    "    return [sim[indicator_name] if indicator_name in sim else {} for sim in indicators]\n",
    "\n",
    "def get_results_by_category_and_subcategory(indicators, llm_model, indicator_name, categories, agg_fn):\n",
    "    \"\"\"\n",
    "    Returns a dictionary with the categories as keys and as values a dictionary with the subcategories as keys and a list \n",
    "    with the values for each simulation\n",
    "\n",
    "    Parameters:\n",
    "    indicators (dict): The indicators dictionary\n",
    "    llm_model (str): The LLM model\n",
    "    indicator_name (str): The name of the indicator\n",
    "    categories (list): The name of the categories\n",
    "    agg_fn (function): The function to aggregate the values for the agents\n",
    "    \"\"\"\n",
    "    subcategories = list(indicators.keys())\n",
    "\n",
    "    if indicator_name:\n",
    "        subcategories_results = {subcat: get_indicator_by_simulation(indicators[subcat][llm_model], indicator_name) for subcat in subcategories}\n",
    "    else:\n",
    "        subcategories_results = {subcat: indicators[subcat][llm_model] for subcat in subcategories}\n",
    "    \n",
    "    # If there are no categories, return the results by subcategory\n",
    "    if not categories:\n",
    "        results = {}\n",
    "        for subcat in subcategories:\n",
    "            results[subcat] = agg_fn(subcategories_results[subcat], None)\n",
    "        return results\n",
    "\n",
    "    results_by_cat = {}\n",
    "    for cat in categories:\n",
    "        results_by_cat[cat] = {}\n",
    "        for subcat in subcategories:\n",
    "            results_by_cat[cat][subcat] = agg_fn(subcategories_results[subcat], cat)\n",
    "    return results_by_cat\n",
    "\n",
    "def take_cat_result(actions_indicator_by_sim, category):\n",
    "        # If there is no category, return the results for Juan\n",
    "        if category is None:\n",
    "                return actions_indicator_by_sim\n",
    "\n",
    "        return [sim[category] if category in sim else 0 for sim in actions_indicator_by_sim]"
   ]
  },
  {
   "cell_type": "code",
   "execution_count": null,
   "metadata": {},
   "outputs": [],
   "source": [
    "import matplotlib.pyplot as plt\n",
    "from matplotlib.patches import Patch\n",
    "\n",
    "# Colors for the generative agents architecture and the CoT architecture\n",
    "SUBCAT_COLORS = [{'facecolor': 'lightblue', 'color': 'blue'},\n",
    "    {'facecolor': 'lightgreen', 'color': 'green'}\n",
    "]\n",
    "\n",
    "def create_box_plot(results, subcat_colors, norm_across_cats=False, **kwargs):\n",
    "    \"\"\"\n",
    "    Creates a box plot with the results of the indicators\n",
    "    The results are a dictionary with (categories) as keys and as values a dictionary with subcategories as keys and a list with the values for each simulation\n",
    "\n",
    "    Parameters:\n",
    "    results (dict): The results of the indicators\n",
    "    subcat_colors (list): A list with the colors for each subcategory. Each element is a dictionary with the facecolor and the color\n",
    "    norm_across_cats (bool): If True, the values will be normalized across categories\n",
    "    **kwargs: Additional parameters for the plot. title and ylabel are supported\n",
    "    \"\"\"\n",
    "    categories = list(results.keys())\n",
    "    try:\n",
    "        subcategories = list(results[categories[0]].keys())\n",
    "\n",
    "    except:\n",
    "        # If there are is an exception is because the data has no categories\n",
    "        subcategories = categories\n",
    "        categories = None\n",
    "    if kwargs.get('custom_subcats', None):\n",
    "        subcat_names = kwargs['custom_subcats']\n",
    "    else:\n",
    "        subcat_names = subcategories\n",
    "        \n",
    "\n",
    "    if norm_across_cats and categories is not None:\n",
    "        results = np.array(list(map(lambda x: list(x.values()), results.values()))) # 3 dimensions: categories, subcategories, simulations\n",
    "        # Mask to avoid division by zero\n",
    "        mask = results.sum(axis=0, keepdims=True) == 0\n",
    "        results = results/(results.sum(axis=0, keepdims=True)+mask)\n",
    "\n",
    "    if categories is None:\n",
    "        positions = np.arange(len(subcategories))+1\n",
    "    else:\n",
    "        positions = np.arange(len(categories)*len(subcategories))+1\n",
    "    positions = positions*0.2\n",
    "\n",
    "    for s, subcategory in enumerate(subcategories):\n",
    "        boxprops = subcat_colors[s].copy()\n",
    "        if categories is not None:\n",
    "            if norm_across_cats:\n",
    "                data = [results[c][s] for c in range(len(categories))]\n",
    "            else:\n",
    "                data = [results[c][subcategory] for c in categories]\n",
    "        else:\n",
    "            # data = results[s]\n",
    "            data = results[subcategory]\n",
    "        plt.boxplot(data, positions=positions[s::len(subcategories)], patch_artist=True, boxprops=boxprops, showmeans=True, widths=0.1)\n",
    "\n",
    "    if categories is not None:\n",
    "        plt.xticks(positions[::len(subcategories)], categories)\n",
    "    else:\n",
    "        plt.xticks(positions, subcat_names)\n",
    "\n",
    "    if 'title' in kwargs:\n",
    "        plt.title(kwargs['title'])\n",
    "    if 'ylabel' in kwargs:\n",
    "        plt.ylabel(kwargs['ylabel'])\n",
    "\n",
    "    if categories is not None:\n",
    "        legend_elements = [Patch(facecolor=subcat_colors[i]['facecolor'], edgecolor=subcat_colors[i]['color'], \\\n",
    "                                label=subcategory) for i, subcategory in enumerate(subcat_names)]\n",
    "        plt.legend(handles=legend_elements, loc='upper right')\n",
    "    \n",
    "    # rotate x labels\n",
    "    if kwargs.get('rotated_labels', False):\n",
    "        plt.xticks(rotation=45)"
   ]
  },
  {
   "cell_type": "code",
   "execution_count": 50,
   "metadata": {},
   "outputs": [],
   "source": [
    "agents = ['Juan', 'Bot']\n",
    "reward_by_agent_by_arch = get_results_by_category_and_subcategory(mushrroms, 'gpt4o_mini', None, agents, take_cat_result)"
   ]
  },
  {
   "cell_type": "code",
   "execution_count": 51,
   "metadata": {},
   "outputs": [
    {
     "data": {
      "text/plain": [
       "{'Juan': {'CoTAgent': [20, 45, 41, 50, 25, -13, 17, 35, 36, 18],\n",
       "  'GenerativeAgents': [36, 33, 37, 43, -9, 11, 50, 28, 47, 36]},\n",
       " 'Bot': {'CoTAgent': [15, -6, 16, 6, 13, 47, 24, 17, 13, 12],\n",
       "  'GenerativeAgents': [32, 27, 3, 30, 10, 6, 20, 31, 21, 22]}}"
      ]
     },
     "execution_count": 51,
     "metadata": {},
     "output_type": "execute_result"
    }
   ],
   "source": [
    "reward_by_agent_by_arch"
   ]
  },
  {
   "cell_type": "code",
   "execution_count": 52,
   "metadata": {},
   "outputs": [],
   "source": [
    "gini_coefs1 = []\n",
    "reward_by_agent_arch1 = [agent_result['GenerativeAgents'] for agent_result in reward_by_agent_by_arch.values()]\n",
    "for sim in range(len(reward_by_agent_arch1[0])):\n",
    "    rewards_by_agent = [agent[sim] for agent in reward_by_agent_arch1]\n",
    "    gini_coefs1.append(gini(rewards_by_agent))\n",
    "\n",
    "gini_coefs2 = []\n",
    "reward_by_agent_arch2 = [agent_result['CoTAgent'] for agent_result in reward_by_agent_by_arch.values()]\n",
    "for sim in range(len(reward_by_agent_arch2[0])):\n",
    "    rewards_by_agent = [agent[sim] for agent in reward_by_agent_arch2]\n",
    "    gini_coefs2.append(gini(rewards_by_agent))\n",
    "\n",
    "gini_coefs_by_arch = {'GenAgents': gini_coefs1, 'CoTAgents': gini_coefs2}"
   ]
  },
  {
   "cell_type": "code",
   "execution_count": 56,
   "metadata": {},
   "outputs": [
    {
     "data": {
      "image/png": "[encoded data removed]",
      "text/plain": [
       "<Figure size 400x600 with 1 Axes>"
      ]
     },
     "metadata": {},
     "output_type": "display_data"
    }
   ],
   "source": [
    "create_box_plot(gini_coefs_by_arch, SUBCAT_COLORS, title='Gini coefficient of Coins gpt4o_mini')\n",
    "plt.ylim(0, 1)\n",
    "plt.xlim(0.1, 0.5)\n",
    "# Make layout more compact\n",
    "plt.tight_layout()\n",
    "# Reduce the width of the plot\n",
    "plt.gcf().set_size_inches(4, 6)\n",
    "plt.show()"
   ]
  },
  {
   "cell_type": "code",
   "execution_count": 15,
   "metadata": {},
   "outputs": [
    {
     "data": {
      "text/plain": [
       "{'GenAgents': [0.029411764705882353,\n",
       "  0.05,\n",
       "  0.425,\n",
       "  0.08904109589041095,\n",
       "  9.5,\n",
       "  0.14705882352941177,\n",
       "  0.21428571428571427,\n",
       "  0.025423728813559324,\n",
       "  0.19117647058823528,\n",
       "  0.1206896551724138],\n",
       " 'CoTAgents': [0.07142857142857142,\n",
       "  0.6538461538461539,\n",
       "  0.21929824561403508,\n",
       "  0.39285714285714285,\n",
       "  0.15789473684210525,\n",
       "  0.8823529411764706,\n",
       "  0.08536585365853659,\n",
       "  0.17307692307692307,\n",
       "  0.23469387755102042,\n",
       "  0.1]}"
      ]
     },
     "execution_count": 15,
     "metadata": {},
     "output_type": "execute_result"
    }
   ],
   "source": [
    "gini_coefs_by_arch"
   ]
  },
  {
   "cell_type": "code",
   "execution_count": null,
   "metadata": {},
   "outputs": [],
   "source": []
  }
 ],
 "metadata": {
  "kernelspec": {
   "display_name": "base",
   "language": "python",
   "name": "python3"
  },
  "language_info": {
   "codemirror_mode": {
    "name": "ipython",
    "version": 3
   },
   "file_extension": ".py",
   "mimetype": "text/x-python",
   "name": "python",
   "nbconvert_exporter": "python",
   "pygments_lexer": "ipython3",
   "version": "3.12.2"
  }
 },
 "nbformat": 4,
 "nbformat_minor": 2
}
