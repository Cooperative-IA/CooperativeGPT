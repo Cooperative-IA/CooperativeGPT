{
 "cells": [
  {
   "cell_type": "code",
   "execution_count": 2,
   "metadata": {},
   "outputs": [],
   "source": [
    "import sys\n",
    "import os\n",
    "\n",
    "# Add the parent directory to sys.path\n",
    "sys.path.append(os.path.abspath('../../../'))\n",
    "os.chdir(os.path.abspath('../../../'))\n",
    "\n",
    "from dotenv import load_dotenv\n",
    "import threading\n",
    "from llm import LLMModels\n",
    "\n",
    "from queue import Queue\n",
    "import logging\n",
    "from utils.llm import extract_answers\n",
    "from utils.logging import CustomAdapter\n",
    "import re \n",
    "import json\n",
    "import cv2\n",
    "\n",
    "from tests.experiment_notebooks.experiment_architecture import experiment_utils\n",
    "import shutil\n",
    "import os"
   ]
  },
  {
   "cell_type": "markdown",
   "metadata": {},
   "source": [
    "### Select the parameters of the scene to recreate, choose a scene_name available"
   ]
  },
  {
   "cell_type": "code",
   "execution_count": 3,
   "metadata": {},
   "outputs": [],
   "source": [
    "# Here you choose the exact simulation you want to simulate, note that .log file should be inside the logs folder\n",
    "\n",
    "logs_folder = 'logs/'\n",
    "simulation_file = \"2024-02-06--12-31-06\"\n",
    "log_file = os.path.join(logs_folder, simulation_file, simulation_file + \".log\")\n",
    "\n",
    "# Here you choose the step range you want to simulate\n",
    "step_init = 314\n",
    "step_end = 370\n",
    "\n",
    "# Here you are choosing the scene name and the path to the scene\n",
    "scene_folder_name = \"scene_agent_takes_last_two\"\n",
    "scene_path = \"tests/experiment_notebooks/experiment_architecture/scenes/\" + scene_folder_name + \"/\""
   ]
  },
  {
   "cell_type": "markdown",
   "metadata": {},
   "source": [
    "## Filter Log File"
   ]
  },
  {
   "cell_type": "code",
   "execution_count": 5,
   "metadata": {},
   "outputs": [
    {
     "name": "stdout",
     "output_type": "stream",
     "text": [
      "300\n"
     ]
    }
   ],
   "source": [
    "# Load the log file\n",
    "with open(log_file, \"r\") as file:\n",
    "    log = file.read()\n",
    "\n",
    "filter_dict = experiment_utils.filter_log_by_agent(log, step_init, step_end)\n",
    "log_by_agent, agents_scenes_description = filter_dict[\"log_by_agent\"], filter_dict[\"agents_scenes_description\"]\n",
    "\n",
    "# Create the folder for the scene if it doesn't exist\n",
    "if not os.path.exists(scene_path):\n",
    "    os.makedirs(scene_path)\n",
    "\n",
    "# Create a .log file for each agent, separate turns by \"################Agent's\" and add the header\n",
    "for agent, logs in log_by_agent.items():\n",
    "     \n",
    "    with open(scene_path + agent + \".log\", \"w\") as file:\n",
    "        for log in logs:\n",
    "            file.write(\"################Agent's \" + agent + \" turn##############\" + log + \"\\n\")\n",
    "\n",
    "    \n",
    "#Save scene description in a .json file for all agents: {agent: [scene_description]}\n",
    "with open(scene_path + \"agents_scenes_description.json\", \"w\") as file:\n",
    "    json.dump(agents_scenes_description, file)\n",
    "    \n"
   ]
  },
  {
   "cell_type": "markdown",
   "metadata": {},
   "source": [
    "### Recreate visually the scene"
   ]
  },
  {
   "cell_type": "code",
   "execution_count": 6,
   "metadata": {},
   "outputs": [],
   "source": [
    "\n",
    "## Adapt the visual record\n",
    "# Get the images from the simulation_folder + \"world\", then take images that are in the range of the steps, the format is \"number.png\"\n",
    "# Create a video with the images and save it in the scene_folder\n",
    "\n",
    "\n",
    "image_folder = logs_folder + simulation_file + \"/world/\"\n",
    "video_path = scene_path + \"scene.avi\"\n",
    "\n",
    "\n",
    "images = [img for img in os.listdir(image_folder) if img.endswith(\".png\") or img.endswith(\".jpg\")]\n",
    "\n",
    "images.sort(key=lambda x: int(x.split('.')[0]))  # Asumiendo que el nombre del archivo es el \"step\" y no tiene puntos adicionales\n",
    "\n",
    "out = cv2.VideoWriter(video_path, cv2.VideoWriter_fourcc(*'DIVX'), 1/1, (1600, 1200))\n",
    "\n",
    "for image in images:\n",
    "    if step_init <= int(image.split(\".\")[0]) <= step_end:\n",
    "        img_path = image_folder + image\n",
    "        img = cv2.imread(img_path)\n",
    "        img_resized = cv2.resize(img, (1600, 1200), interpolation=cv2.INTER_NEAREST)  # Redimensiona la imagen a la resolución deseada\n",
    "        height, _, _ = img_resized.shape\n",
    "        font = cv2.FONT_HERSHEY_SIMPLEX\n",
    "        text = \"Step: \" + image.split(\".\")[0]\n",
    "        cv2.putText(img_resized, text, (12, int(height * 0.035)), font, 1, (255, 255, 255), 2, cv2.LINE_AA)\n",
    "        out.write(img_resized)\n",
    "        \n",
    "    \n",
    "\n",
    "out.release()"
   ]
  }
 ],
 "metadata": {
  "kernelspec": {
   "display_name": "envMP",
   "language": "python",
   "name": "python3"
  },
  "language_info": {
   "codemirror_mode": {
    "name": "ipython",
    "version": 3
   },
   "file_extension": ".py",
   "mimetype": "text/x-python",
   "name": "python",
   "nbconvert_exporter": "python",
   "pygments_lexer": "ipython3",
   "version": "3.10.13"
  }
 },
 "nbformat": 4,
 "nbformat_minor": 2
}
