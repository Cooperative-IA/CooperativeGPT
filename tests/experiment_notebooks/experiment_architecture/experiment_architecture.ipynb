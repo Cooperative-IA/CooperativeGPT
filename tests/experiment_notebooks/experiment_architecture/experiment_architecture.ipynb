{
 "cells": [
  {
   "cell_type": "markdown",
   "metadata": {},
   "source": [
    "# Test Module Act prompt from the Observation generator\n",
    "In this notebook we will manually test some prompts and completions of the module Actuate. We are saving the results on a .txt file to compare them with other executions. "
   ]
  },
  {
   "cell_type": "markdown",
   "metadata": {},
   "source": [
    "## Experiment parameters\n",
    "We will use the following parameters for the tests:"
   ]
  },
  {
   "cell_type": "code",
   "execution_count": 1,
   "metadata": {},
   "outputs": [],
   "source": [
    "import sys\n",
    "import os\n",
    "\n",
    "# Add a description to the experiment if required, example:\n",
    "current_folder = f\"tests/experiment_notebooks/experiment_architecture\"\n",
    "# Scene path to be used in the experiment\n",
    "scene_name = \"scene_agent_takes_last_two\"\n",
    "\n",
    "args_substrate = \"commons_harvest_open\"\n",
    "\n",
    "# Choose the world context to be used in the experiment, valid are those from data folder\n",
    "args_world_context = \"detailed_context\"\n",
    "\n",
    "scene_folder =  os.path.join(current_folder, f\"scenes/{scene_name}\")\n",
    "\n",
    "# Choose the prompts folder to be used in the experiment, check for valid folders in prompts folder\n",
    "prompts_folder = \"base_prompts_v0\"\n"
   ]
  },
  {
   "cell_type": "markdown",
   "metadata": {},
   "source": [
    "## Experiment Code"
   ]
  },
  {
   "cell_type": "code",
   "execution_count": 2,
   "metadata": {},
   "outputs": [
    {
     "name": "stderr",
     "output_type": "stream",
     "text": [
      "2024-02-15 00:35:53.311307: E tensorflow/compiler/xla/stream_executor/cuda/cuda_dnn.cc:9342] Unable to register cuDNN factory: Attempting to register factory for plugin cuDNN when one has already been registered\n",
      "2024-02-15 00:35:53.311378: E tensorflow/compiler/xla/stream_executor/cuda/cuda_fft.cc:609] Unable to register cuFFT factory: Attempting to register factory for plugin cuFFT when one has already been registered\n",
      "2024-02-15 00:35:53.311411: E tensorflow/compiler/xla/stream_executor/cuda/cuda_blas.cc:1518] Unable to register cuBLAS factory: Attempting to register factory for plugin cuBLAS when one has already been registered\n",
      "2024-02-15 00:35:53.998923: W tensorflow/compiler/tf2tensorrt/utils/py_utils.cc:38] TF-TRT Warning: Could not find TensorRT\n"
     ]
    }
   ],
   "source": [
    "\n",
    "# Add the parent directory to sys.path\n",
    "sys.path.append(os.path.abspath('../../../'))\n",
    "\n",
    "from dotenv import load_dotenv\n",
    "import threading\n",
    "from llm import LLMModels\n",
    "\n",
    "from queue import Queue\n",
    "import logging\n",
    "from utils.llm import extract_answers\n",
    "from utils.logging import CustomAdapter\n",
    "from game_environment.substrates.python.commons_harvest_open import ASCII_MAP\n",
    "\n",
    "#Change notebook root to the root of the project\n",
    "os.chdir(os.path.abspath('../../../'))\n",
    "\n",
    "# Save this current path in a variable for later use\n",
    "current_path = os.getcwd()\n"
   ]
  },
  {
   "cell_type": "code",
   "execution_count": 3,
   "metadata": {},
   "outputs": [
    {
     "name": "stdout",
     "output_type": "stream",
     "text": [
      "pygame 2.5.2 (SDL 2.28.2, Python 3.10.13)\n",
      "Hello from the pygame community. https://www.pygame.org/contribute.html\n"
     ]
    }
   ],
   "source": [
    "from datetime import datetime\n",
    "import logging\n",
    "import os\n",
    "from dotenv import load_dotenv\n",
    "import time\n",
    "import traceback\n",
    "from utils.logging import setup_logging, CustomAdapter\n",
    "from game_environment.utils import generate_agent_actions_map, check_agent_out_of_game, get_defined_valid_actions\n",
    "from agent.agent import Agent\n",
    "from game_environment.server import start_server, get_scenario_map,  default_agent_actions_map\n",
    "from llm import LLMModels\n",
    "from utils.queue_utils import new_empty_queue\n",
    "from utils.args_handler import get_args\n",
    "from utils.files import extract_players\n",
    "import json"
   ]
  },
  {
   "cell_type": "code",
   "execution_count": 4,
   "metadata": {},
   "outputs": [
    {
     "data": {
      "text/plain": [
       "{'Pedro': <queue.Queue at 0x7fdda54d2b30>,\n",
       " 'Laura': <queue.Queue at 0x7fde7c27ad10>,\n",
       " 'Juan': <queue.Queue at 0x7fdda54d0310>}"
      ]
     },
     "execution_count": 4,
     "metadata": {},
     "output_type": "execute_result"
    }
   ],
   "source": [
    "\n",
    "def get_all_agents_observations(scene_folder:str) -> list[str]:\n",
    "    \"\"\"\n",
    "    Load all the observations from the \"agents_scenes_description.json\" on  scene folder. \n",
    "    \"\"\"\n",
    "    agents_observations = []\n",
    "    with open(scene_folder + \"/agents_scenes_description.json\", \"r\") as f:\n",
    "        # Read it as a json dictionary\n",
    "        agents_observations = json.load(f)\n",
    "    \n",
    "    agents_queue_observations = {agent_name: new_empty_queue() for agent_name in agents_observations.keys()}\n",
    "    #For each agent in the agents_observations, we are creating a queue to store the observations\n",
    "    for agent_name, agent_observations in agents_observations.items():\n",
    "        agents_queue_observations[agent_name] = new_empty_queue()\n",
    "        for observation in agent_observations:\n",
    "            agents_queue_observations[agent_name].put(observation)\n",
    "    return agents_queue_observations\n",
    "\n",
    "\n",
    "get_all_agents_observations(scene_folder)"
   ]
  },
  {
   "cell_type": "markdown",
   "metadata": {},
   "source": [
    "#### Show what will be the input for the architecture flow."
   ]
  },
  {
   "cell_type": "code",
   "execution_count": 5,
   "metadata": {},
   "outputs": [
    {
     "name": "stdout",
     "output_type": "stream",
     "text": [
      "Agent: Pedro - First observation: {'observation': '-----------\\n-----------\\n-----------\\n-----------\\n-----------\\n-----------\\n-----------\\n-----------\\nWWWWWWWWWWW\\nFFFFF#FFFFF\\nFFFFA2GFFFF', 'agents_in_observation': {'2': 'Laura'}, 'global_position': [8, 1], 'orientation': 3, 'last_observation': '-----------\\n-----------\\n-----------\\n-----------\\n-----------\\n-----------\\n-----------\\n-----------\\nWWWWWWWWWWW\\nFFFFF#FFFFF\\nFFFFA2GFFFF'}\n",
      "Agent: Laura - First observation: {'observation': '-----------\\n-----------\\n-----------\\n-----------\\n-----------\\n-----------\\n-----------\\nWWWWWWWWWWW\\nFFFF1GFFFFF\\nFFFFA#GFFFF\\nFFFGAGAAFFF', 'agents_in_observation': {'1': 'Pedro'}, 'global_position': [8, 2], 'orientation': 3, 'last_observation': '-----------\\n-----------\\n-----------\\n-----------\\n-----------\\n-----------\\n-----------\\nWWWWWWWWWWW\\nFFFFF1FFFFF\\nFFFFA#GFFFF\\nFFFGAGAAFFF'}\n",
      "Agent: Juan - First observation: {'observation': 'FFFFFFFFFFF\\nFFFFFFFFFFF\\nFFFFFFFFFFG\\nFFFFFFFFFAG\\nFFFFFFFFAGA\\nFFFFFFFFFAA\\nFFFFFFFFFFG\\nFFFFFGFFFFF\\nFFFFGGAFFFF\\nFFFFF#GGFFF\\nFFFFGGAFFFF', 'agents_in_observation': {}, 'global_position': [8, 20], 'orientation': 3, 'last_observation': 'FFFFFFFFFFF\\nFFFFFFFFFFF\\nFFFFFFFFFFG\\nFFFFFFFFFAG\\nFFFFFFFFAGA\\nFFFFFFFFFAA\\nFFFFFFFFFFG\\nFFFFFGFFFFF\\nFFFFGGAFFFF\\nFFFFF#GGFFF\\nFFFFGGAFFFF', 'observed_changes': [['Observed that the grass at position [10, 20] disappeared.', '2024-02-19 15:00:00'], ['Observed that the grass at position [9, 20] disappeared.', '2024-02-19 15:00:00'], [\"Now it's 2024-02-19 19:00:00 and the reward obtained by me is 51.0. I am at the position (8, 20) looking to the West.\", '']]}\n"
     ]
    }
   ],
   "source": [
    "# Print first observation of each agent\n",
    "for agent_name, agent_observations in get_all_agents_observations(scene_folder).items():\n",
    "    print(f\"Agent: {agent_name} - First observation: {agent_observations.get()}\")"
   ]
  },
  {
   "cell_type": "markdown",
   "metadata": {},
   "source": [
    "### Simulate architecture flow given an scene"
   ]
  },
  {
   "cell_type": "code",
   "execution_count": 8,
   "metadata": {},
   "outputs": [],
   "source": [
    "\n",
    "from utils.files import load_config\n",
    "from game_environment.scene_descriptor.observations_generator import ObservationsGenerator\n",
    "import json\n",
    "\n",
    "# Set up logging timestamp\n",
    "\n",
    "logger_timestamp = datetime.now().strftime(\"%Y-%m-%d--%H-%M-%S\")\n",
    "# load environment variables\n",
    "load_dotenv(override=True)\n",
    "\n",
    "logger = logging.getLogger(__name__)\n",
    "\n",
    "# We are saving all the stream of printings in a file called \"output.log\"\n",
    "folder_name_output = f'{current_folder}/results/{scene_name}___{logger_timestamp}'\n",
    "if not os.path.exists(folder_name_output):\n",
    "    os.makedirs(folder_name_output)\n",
    "log_path = f'{folder_name_output}/output.log'\n",
    "sys.stdout = open(log_path, 'w')\n",
    "\n",
    "\n",
    "def game_loop(agents: list[Agent], scene_folder: str, substrate_name:str, scenario_info:dict[str]) -> None:\n",
    "    \"\"\"\n",
    "    The main game loop. This will be run in a separate thread for each agent.\n",
    "    \"\"\"\n",
    "    actions = None\n",
    "    agents_scene_desc_queue = get_all_agents_observations(scene_folder)\n",
    "    time_step = datetime.now().replace(minute=0, second=0, microsecond=0)\n",
    "    date_format = load_config()['date_format']\n",
    "    observationsGenerator = ObservationsGenerator(scenario_info['scenario_map'], [agent.name for agent in agents], substrate_name)\n",
    "    # We are going to run the game loop until all the agents queues observations are empty\n",
    "\n",
    "    while not all([agents_scene_desc_queue[agent_name].empty() for agent_name in agents_scene_desc_queue.keys()]):\n",
    "        for agent in agents:\n",
    "            agent_name = agent.name\n",
    "            player_prefix = agent_name \n",
    "            logger.info(\"\\n\\n\" + f\"Agent's {agent.name} turn\".center(50, '#') + \"\\n\")\n",
    "\n",
    "            if not agents_scene_desc_queue[agent_name].empty():\n",
    "                scene_description = agents_scene_desc_queue[agent_name].get()\n",
    "                scene_description['global_position'] = tuple(scene_description['global_position'])\n",
    "                observations = observationsGenerator.get_observations_per_agent(scene_description, agent_name, True)\n",
    "                \n",
    "                state_changes = scene_description.get('observed_changes', [])\n",
    "                game_time = time.strftime(date_format)\n",
    "                agent_reward = 0\n",
    "                step_actions = agent.move(observations, scene_description, state_changes, game_time, agent_reward)\n",
    "                print(f\"Agent: {agent_name} - Observation: {observations} - Actions: {step_actions}\")\n",
    "\n",
    "def main (logger):\n",
    "    \n",
    "    setup_logging(logger_timestamp)\n",
    "    logger.info(\"Program started\")\n",
    "    start_time = time.time()\n",
    "    \n",
    "    mode = None # cooperative or None, if cooperative the agents will use the cooperative modules\n",
    "    args_agents_bio_config = \"no_bio\"\n",
    "    experiment_path = os.path.join(\"data\", \"defined_experiments\", args_substrate)\n",
    "    agents_bio_dir =  os.path.join( experiment_path, \"agents_context\", args_agents_bio_config)\n",
    "    game_scenario = \"default\"\n",
    "    players_context = [os.path.abspath(os.path.join(agents_bio_dir, player_file)) for player_file in os.listdir(agents_bio_dir)]\n",
    "\n",
    "    players = extract_players(players_context)\n",
    "\n",
    "\n",
    "    world_context_path = os.path.join(experiment_path, \"world_context\", f'{args_world_context}.txt')\n",
    "    valid_actions = get_defined_valid_actions(game_name=args_substrate)\n",
    "    scenario_obstacles  = ['W', '$'] # TODO : Change this. This should be also loaded from the scenario file\n",
    "    scenario_info = {'scenario_map': get_scenario_map(game_name=args_substrate), 'valid_actions': valid_actions, 'scenario_obstacles': scenario_obstacles} ## TODO: ALL THIS HAVE TO BE LOADED USING SUBSTRATE NAME\n",
    "    # Create agents\n",
    "    agents = [Agent(name=player, data_folder=\"data\", agent_context_file=player_context, world_context_file=world_context_path, scenario_info=scenario_info, mode=mode, prompts_folder=prompts_folder) for player, player_context in zip(players, players_context)]\n",
    "\n",
    "    # Start the game server\n",
    "    logger = CustomAdapter(logger, game_env=None)\n",
    "\n",
    "\n",
    "    llm = LLMModels()\n",
    "    try:\n",
    "        game_loop(agents, scene_folder=scene_folder, substrate_name=args_substrate, scenario_info=scenario_info)\n",
    "    except Exception as e:\n",
    "        logger.exception(\"Exception: %s\", e)\n",
    "\n",
    "\n",
    "    # LLm total cost\n",
    "    costs = llm.get_costs()\n",
    "    tokens = llm.get_tokens()\n",
    "    logger.info(\"LLM total cost: {:,.2f}, Cost by model: {}, Total tokens: {:,}, Tokens by model: {}\".format(costs['total'], costs,  tokens['total'], tokens))\n",
    "\n",
    "    end_time = time.time()\n",
    "    logger.info(\"Execution time: %.2f minutes\", (end_time - start_time)/60)\n",
    "\n",
    "    logger.info(\"Program finished\")\n",
    "    \n",
    "main(logger)\n",
    "\n"
   ]
  },
  {
   "cell_type": "markdown",
   "metadata": {},
   "source": [
    "## Experiment Results"
   ]
  },
  {
   "cell_type": "markdown",
   "metadata": {},
   "source": [
    "Management of the results will be done by filtering the results txt file by agent and then by module."
   ]
  },
  {
   "cell_type": "markdown",
   "metadata": {},
   "source": [
    "#### Save entire agent log"
   ]
  },
  {
   "cell_type": "markdown",
   "metadata": {},
   "source": [
    "We are saving the whole agent log to a file for further analysis. It contains the entire flow of the agent, including the observations, prompts, completions and actions."
   ]
  },
  {
   "cell_type": "code",
   "execution_count": 11,
   "metadata": {},
   "outputs": [],
   "source": [
    "from tests.experiment_notebooks.experiment_architecture.experiment_utils import filter_log_by_agent, separate_modules_answers_from_log\n",
    "\n",
    "# Uncomment next two lines if it did not work at first time, manually add the folder_name_output\n",
    "results_name = \"scene_agent_takes_last_two___2024-02-14--23-51-11\"\n",
    "folder_name_output = f\"{current_folder}/results/{results_name}\"\n",
    "log_path = f'{folder_name_output}/output.log'\n",
    "#read the log file\n",
    "with open(log_path, 'r') as f:\n",
    "    log = f.read()\n",
    "_log_by_agent = filter_log_by_agent(log)['log_by_agent']\n",
    "\n",
    "_log_by_agent\n",
    "\n",
    "# For each agent create a folder and save each agent log in a file .log\n",
    "for agent_name, agent_log in _log_by_agent.items():\n",
    "    agent_folder = f\"{folder_name_output}/{agent_name}\"\n",
    "    if not os.path.exists(agent_folder):\n",
    "        os.makedirs(agent_folder)\n",
    "    with open(f\"{agent_folder}/{agent_name}.log\", \"w\") as f:\n",
    "        # Add to each line next string ########## NEW TURN ##########\\n\"\n",
    "        agent_log = [f\"\\n########## NEW TURN ##########\\n\\n {log}\" for log in agent_log]\n",
    "        f.write('\\n'.join(agent_log))"
   ]
  },
  {
   "cell_type": "markdown",
   "metadata": {},
   "source": [
    "##### Filter by module each agent log"
   ]
  },
  {
   "cell_type": "markdown",
   "metadata": {},
   "source": [
    "This cell will filter the results of the agent log by module and save them in a new file. \n",
    "Each agent will have a folder for each prompt, and that file will contain all the completions for that prompt."
   ]
  },
  {
   "cell_type": "code",
   "execution_count": 12,
   "metadata": {},
   "outputs": [
    {
     "data": {
      "text/plain": [
       "\"You got {'react': 4, 'plan': 3, 'reflect_questions': 1, 'reflect_insight': 1, 'act': 3} answers for  module\""
      ]
     },
     "execution_count": 12,
     "metadata": {},
     "output_type": "execute_result"
    }
   ],
   "source": [
    "from tests.experiment_notebooks.experiment_architecture.experiment_utils import separate_modules_answers_from_log\n",
    "# Separate answers for each agent and then save the answers of each module in one file for module on the agent folder, separated by turn\n",
    "for agent_name, agent_log in _log_by_agent.items():\n",
    "    print(agent_name)\n",
    "    agent_folder = f\"{folder_name_output}/{agent_name}\"\n",
    "    print(agent_folder)\n",
    "    promts_abs_path = os.path.abspath(f\"{current_path}/prompts/{prompts_folder}\")\n",
    "    agent_answers = separate_modules_answers_from_log(f\"{agent_folder}/{agent_name}.log\", agent_name, promts_abs_path)\n",
    "    \n",
    "    for module, answers in agent_answers.items():\n",
    "        folder = f\"{agent_folder}/answer_per_module\"\n",
    "        if not os.path.exists(folder):\n",
    "            os.makedirs(folder)\n",
    "        with open(f\"{folder}/{module}.log\", \"w\") as f:\n",
    "            for i, answer in enumerate(answers):\n",
    "                f.write(f\"\\n\\n########### ANSWER {i} ##########\\n\\n\")\n",
    "                f.write(answer)\n",
    "                \n",
    "answers_lens = {ans: len(agent_answers[ans]) for ans in agent_answers}\n",
    "f\"You got {answers_lens} answers for  module\""
   ]
  }
 ],
 "metadata": {
  "kernelspec": {
   "display_name": "envMP",
   "language": "python",
   "name": "python3"
  },
  "language_info": {
   "codemirror_mode": {
    "name": "ipython",
    "version": 3
   },
   "file_extension": ".py",
   "mimetype": "text/x-python",
   "name": "python",
   "nbconvert_exporter": "python",
   "pygments_lexer": "ipython3",
   "version": "3.10.13"
  }
 },
 "nbformat": 4,
 "nbformat_minor": 2
}
