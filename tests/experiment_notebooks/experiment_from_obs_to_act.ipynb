{
 "cells": [
  {
   "cell_type": "markdown",
   "metadata": {},
   "source": [
    "# Test Module Act prompt from the Observation generator\n",
    "In this notebook we will manually test some prompts and completions of the module Actuate. We are saving the results on a .txt file to compare them with other executions. "
   ]
  },
  {
   "cell_type": "code",
   "execution_count": null,
   "metadata": {},
   "outputs": [],
   "source": [
    "import sys\n",
    "import os\n",
    "\n",
    "# Add the parent directory to sys.path\n",
    "sys.path.append(os.path.abspath('../../'))\n",
    "\n",
    "from dotenv import load_dotenv\n",
    "import threading\n",
    "from llm import LLMModels\n",
    "\n",
    "from queue import Queue\n",
    "import logging\n",
    "from utils.llm import extract_answers\n",
    "from utils.logging import CustomAdapter\n",
    "from game_environment.substrates.python.commons_harvest_open import ASCII_MAP\n",
    "from agent.memory_structures.spatial_memory import SpatialMemory\n",
    "\n",
    "spatial_memory = SpatialMemory(ASCII_MAP)"
   ]
  },
  {
   "cell_type": "markdown",
   "metadata": {},
   "source": [
    "## Experiment parameters\n",
    "We will use the following parameters for the tests:"
   ]
  },
  {
   "cell_type": "code",
   "execution_count": null,
   "metadata": {},
   "outputs": [],
   "source": [
    "# Add a description to the experiment if required, example:\n",
    "# description = \"This experiment tests actuate without plan, and world understanding. Also we are changing Observations formats.\"\n",
    "description = \"This experiment tests actuate without plan, and world understanding. Also we are changing Observations formats.\"\n",
    "\n",
    "# Modify the path to the prompt file if required, do not include the folder \"prompts\" in the path\n",
    "prompt_path = \"actuate_tests/actuate_0.txt\"\n",
    "\n",
    "# Modify the number of replicates, it mean the quantity of times that the prompt will be executed\n",
    "replicates = 50\n",
    "\n",
    "# For now it is evaluating if agent grabs last apple\n",
    "last_apple_position = (9, 21)\n",
    "\n",
    "\n"
   ]
  },
  {
   "cell_type": "code",
   "execution_count": null,
   "metadata": {},
   "outputs": [],
   "source": []
  },
  {
   "cell_type": "code",
   "execution_count": null,
   "metadata": {},
   "outputs": [],
   "source": []
  }
 ],
 "metadata": {
  "language_info": {
   "name": "python"
  }
 },
 "nbformat": 4,
 "nbformat_minor": 2
}
