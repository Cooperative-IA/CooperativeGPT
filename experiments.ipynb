{
 "cells": [
  {
   "cell_type": "code",
   "execution_count": 11,
   "metadata": {},
   "outputs": [],
   "source": [
    "import os\n",
    "import logging\n",
    "\n",
    "import chromadb\n",
    "import uuid\n",
    "from chromadb.utils import embedding_functions\n",
    "from utils.llm import CustomEmbeddingFunction\n",
    "\n",
    "from utils.files import load_config\n",
    "from utils.time import str_to_timestamp\n",
    "from utils.logging import CustomAdapter\n",
    "from dotenv import load_dotenv\n"
   ]
  },
  {
   "cell_type": "code",
   "execution_count": 26,
   "metadata": {},
   "outputs": [],
   "source": [
    "load_dotenv(override=True)\n",
    "\n",
    "database_folder = \"logs/2024-02-19--15-20-23/ltm_database\"\n",
    "database_folder = \"data/ltm_database\"\n",
    "# There are 3 agents databases, one for each agent \n",
    "agents= [\"Juan\", \"Laura\", \"Pedro\"]\n",
    "\n"
   ]
  },
  {
   "cell_type": "code",
   "execution_count": 57,
   "metadata": {},
   "outputs": [],
   "source": [
    "def retrieve_collections_for_agent_with_filter(database_folder, agent_name, filter):\n",
    "    \"\"\"\n",
    "    Retrieve collections from the database for a specific agent with a filter\n",
    "    The filter is a dictionary with the metadata to filter.\n",
    "    We are filtering by \"timestamp\", and retrieving all the collections that have a timestamp less than the one specified in the filter.\n",
    "    \"\"\"\n",
    "    # Load the database\n",
    "    db_path = os.path.join(database_folder, agent_name, \"long_term_memory.db\")\n",
    "    chroma_client = chromadb.PersistentClient(path=db_path)\n",
    "    # Use a custom model to create the embeddings\n",
    "    collection = chroma_client.get_or_create_collection(agent_name)\n",
    "    \n",
    "    # Retrieve the collections\n",
    "    collections = collection.get(where=filter)\n",
    "    return collections"
   ]
  },
  {
   "cell_type": "code",
   "execution_count": 72,
   "metadata": {},
   "outputs": [
    {
     "name": "stdout",
     "output_type": "stream",
     "text": [
      "13\n"
     ]
    },
    {
     "data": {
      "text/plain": [
       "{'ids': ['d83396ef-d4bb-403b-99b2-3570bc307d98',\n",
       "  'b39f3ced-ea6b-4a39-b7da-dadd52f43967',\n",
       "  'ce21a0bc-db23-4128-9164-2a2b46235967',\n",
       "  'a1fc8119-0c16-4043-a68b-db1dc42d9f7a',\n",
       "  'b694633b-0c49-4a63-88fd-49ebd38dd4a5',\n",
       "  '633c1a29-fe25-4ac8-895f-5f900467f110',\n",
       "  '39551708-2ebf-4eb8-b873-6261aab679fe',\n",
       "  '72517d88-65f4-48c8-8f1a-e6b7af89a0fd',\n",
       "  'd130d499-9970-4262-b73d-2c165b79ae78',\n",
       "  '7c95ad48-a50e-49b1-a92d-c3b5fb71d7f8',\n",
       "  '21fd2a2e-c45f-45a2-b6e1-3f5ab8aceced',\n",
       "  '761899a6-f42f-4ff0-a074-c7c0bbb4b20c',\n",
       "  'f9c01a4f-4904-4287-8e5c-55e790f6d3a0'],\n",
       " 'embeddings': None,\n",
       " 'metadatas': [{'created_at': '2024-02-20 00:00:00',\n",
       "   'poignancy': 10,\n",
       "   'timestamp': 1708405200,\n",
       "   'type': 'perception'},\n",
       "  {'created_at': '2024-02-21 17:00:00',\n",
       "   'poignancy': 10,\n",
       "   'timestamp': 1708552800,\n",
       "   'type': 'perception'},\n",
       "  {'created_at': '2024-02-22 00:00:00',\n",
       "   'poignancy': 10,\n",
       "   'timestamp': 1708578000,\n",
       "   'type': 'perception'},\n",
       "  {'created_at': '2024-02-22 00:00:00',\n",
       "   'poignancy': 10,\n",
       "   'timestamp': 1708578000,\n",
       "   'type': 'reflection'},\n",
       "  {'created_at': '2024-02-22 00:00:00',\n",
       "   'poignancy': 10,\n",
       "   'timestamp': 1708578000,\n",
       "   'type': 'reflection'},\n",
       "  {'created_at': '2024-02-22 00:00:00',\n",
       "   'poignancy': 10,\n",
       "   'timestamp': 1708578000,\n",
       "   'type': 'reflection'},\n",
       "  {'created_at': '2024-02-22 04:00:00',\n",
       "   'poignancy': 10,\n",
       "   'timestamp': 1708592400,\n",
       "   'type': 'perception'},\n",
       "  {'created_at': '2024-02-22 07:00:00',\n",
       "   'poignancy': 10,\n",
       "   'timestamp': 1708603200,\n",
       "   'type': 'perception'},\n",
       "  {'created_at': '2024-02-22 15:00:00',\n",
       "   'poignancy': 10,\n",
       "   'timestamp': 1708632000,\n",
       "   'type': 'perception'},\n",
       "  {'created_at': '2024-02-22 15:00:00',\n",
       "   'poignancy': 10,\n",
       "   'timestamp': 1708632000,\n",
       "   'type': 'reflection'},\n",
       "  {'created_at': '2024-02-22 15:00:00',\n",
       "   'poignancy': 10,\n",
       "   'timestamp': 1708632000,\n",
       "   'type': 'reflection'},\n",
       "  {'created_at': '2024-02-22 15:00:00',\n",
       "   'poignancy': 10,\n",
       "   'timestamp': 1708632000,\n",
       "   'type': 'reflection'},\n",
       "  {'created_at': '2024-02-23 09:00:00',\n",
       "   'poignancy': 10,\n",
       "   'timestamp': 1708696800,\n",
       "   'type': 'perception'}],\n",
       " 'documents': [\"Now it's 2024-02-20 00:00:00 and the reward obtained by me is 0.0. I am at the position (7, 16) looking to the South.\\nI can currently observe the following:\\nObserved an apple at position [8, 18]. This apple belongs to tree 6.\\nObserved an apple at position [7, 19]. This apple belongs to tree 6.\\nObserved an apple at position [8, 19]. This apple belongs to tree 6.\\nObserved an apple at position [7, 20]. This apple belongs to tree 6.\\nObserved an apple at position [9, 19]. This apple belongs to tree 6.\\nObserved an apple at position [8, 20]. This apple belongs to tree 6.\\nObserved an apple at position [7, 21]. This apple belongs to tree 6.\\nObserved an apple at position [6, 20]. This apple belongs to tree 6.\\nObserved tree 6 at position [8, 20]. This tree has 12 apples remaining and 0 grass for apples growing on the observed map. The tree might have more apples and grass on the global map.\\nObserved an apple at position [9, 20]. This apple belongs to tree 6.\",\n",
       "  'I took the action \"go to position (8, 18)\" in my last turn. Since then, the following changes in the environment have been observed:\\nObserved that agent Laura took an apple from position [10, 20]. At 2024-02-20 14:00:00\\nObserved that agent Laura took an apple from position [9, 20]. At 2024-02-20 15:00:00\\nObserved that agent Laura took an apple from position [8, 20]. At 2024-02-20 16:00:00\\nObserved that agent Laura took an apple from position [7, 20]. At 2024-02-20 17:00:00\\nObserved that an apple grew at position [9, 20]. At 2024-02-21 08:00:00\\nNow it\\'s 2024-02-21 17:00:00 and the reward obtained by me is 1.0. I am at the position (8, 18) looking to the South.\\nI can currently observe the following:\\nObserved an apple at position [8, 19]. This apple belongs to tree 6.\\nObserved an apple at position [9, 19]. This apple belongs to tree 6.\\nObserved grass to grow apples at position [8, 20]. This grass belongs to tree 6.\\nObserved an apple at position [7, 19]. This apple belongs to tree 6.\\nObserved tree 6 at position [8, 20]. This tree has 8 apples remaining and 3 grass for apples growing on the observed map. The tree might have more apples and grass on the global map.\\nObserved an apple at position [9, 20]. This apple belongs to tree 6.\\nObserved an apple at position [8, 21]. This apple belongs to tree 6.\\nObserved grass to grow apples at position [7, 20]. This grass belongs to tree 6.\\nObserved grass to grow apples at position [10, 20]. This grass belongs to tree 6.\\nObserved an apple at position [9, 21]. This apple belongs to tree 6.',\n",
       "  'I took the action \"go to position (8, 20)\" in my last turn. Now it\\'s 2024-02-22 00:00:00 and the reward obtained by me is 2.0. I am at the position (8, 20) looking to the East.\\nI can currently observe the following:\\nObserved tree 6 at position [8, 20]. This tree has 7 apples remaining and 4 grass for apples growing on the observed map. The tree might have more apples and grass on the global map.\\nObserved an apple at position [8, 21]. This apple belongs to tree 6.\\nObserved grass to grow apples at position [7, 20]. This grass belongs to tree 6.\\nObserved an apple at position [9, 20]. This apple belongs to tree 6.\\nObserved grass to grow apples at position [8, 19]. This grass belongs to tree 6.\\nObserved an apple at position [8, 22]. This apple belongs to tree 6.\\nObserved an apple at position [7, 21]. This apple belongs to tree 6.\\nObserved an apple at position [9, 21]. This apple belongs to tree 6.\\nObserved grass to grow apples at position [6, 20]. This grass belongs to tree 6.\\nObserved grass to grow apples at position [10, 20]. This grass belongs to tree 6.',\n",
       "  'Agent Laura took the apples from tree 6 at the following positions and timestamps: [10, 20] at 2024-02-20 14:00:00, [9, 20] at 2024-02-20 15:00:00, [8, 20] at 2024-02-20 16:00:00, and [7, 20] at 2024-02-20 17:00:00. Reflection made at 2024-02-22 00:00:00.',\n",
       "  'The apple at position [9, 20] grew at 2024-02-21 08:00:00. Reflection made at 2024-02-22 00:00:00.',\n",
       "  'The timestamps and reward values of the rewards obtained by Juan are as follows: 2024-02-20 00:00:00 - 0.0 reward; 2024-02-21 17:00:00 - 1.0 reward; 2024-02-22 00:00:00 - 2.0 reward. Reflection made at 2024-02-22 00:00:00.',\n",
       "  'I took the action \"go to position (8, 21)\" in my last turn. Now it\\'s 2024-02-22 04:00:00 and the reward obtained by me is 3.0. I am at the position (8, 20) looking to the East.\\nI can currently observe the following:\\nObserved tree 6 at position [8, 20]. This tree has 7 apples remaining and 4 grass for apples growing on the observed map. The tree might have more apples and grass on the global map.\\nObserved an apple at position [8, 21]. This apple belongs to tree 6.\\nObserved grass to grow apples at position [7, 20]. This grass belongs to tree 6.\\nObserved an apple at position [9, 20]. This apple belongs to tree 6.\\nObserved grass to grow apples at position [8, 19]. This grass belongs to tree 6.\\nObserved an apple at position [8, 22]. This apple belongs to tree 6.\\nObserved an apple at position [7, 21]. This apple belongs to tree 6.\\nObserved an apple at position [9, 21]. This apple belongs to tree 6.\\nObserved grass to grow apples at position [6, 20]. This grass belongs to tree 6.\\nObserved grass to grow apples at position [10, 20]. This grass belongs to tree 6.',\n",
       "  'I took the action \"go to position (6, 20)\" in my last turn. Now it\\'s 2024-02-22 07:00:00 and the reward obtained by me is 3.0. I am at the position (7, 21) looking to the East.\\nI can currently observe the following:\\nObserved grass to grow apples at position [8, 21]. This grass belongs to tree 6.\\nObserved grass to grow apples at position [7, 20]. This grass belongs to tree 6.\\nObserved grass to grow apples at position [8, 22]. This grass belongs to tree 6.\\nObserved an apple at position [9, 21]. This apple belongs to tree 6.\\nObserved grass to grow apples at position [6, 20]. This grass belongs to tree 6.\\nObserved an apple at position [8, 20]. This apple belongs to tree 6.\\nObserved tree 6 at position [8, 20]. This tree has 2 apples remaining and 6 grass for apples growing on the observed map. The tree might have more apples and grass on the global map.\\nObserved grass to grow apples at position [9, 20]. This grass belongs to tree 6.\\nObserved grass to grow apples at position [10, 20]. This grass belongs to tree 6.\\nObserved an apple at position [3, 22]. This apple belongs to tree 4.',\n",
       "  'I took the action \"go to position (6, 20)\" in my last turn. Since then, the following changes in the environment have been observed:\\nObserved that an apple grew at position [7, 19]. At 2024-02-22 13:00:00\\nObserved that an apple grew at position [7, 20]. At 2024-02-22 14:00:00\\nNow it\\'s 2024-02-22 15:00:00 and the reward obtained by me is 3.0. I am at the position (6, 21) looking to the North.\\nI can currently observe the following:\\nObserved grass to grow apples at position [6, 20]. This grass belongs to tree 6.\\nObserved grass to grow apples at position [7, 21]. This grass belongs to tree 6.\\nObserved an apple at position [7, 20]. This apple belongs to tree 6.\\nObserved an apple at position [7, 19]. This apple belongs to tree 6.\\nObserved tree 6 at position [8, 20]. This tree has 2 apples remaining and 2 grass for apples growing on the observed map. The tree might have more apples and grass on the global map.\\nObserved grass to grow apples at position [2, 21]. This grass belongs to tree 4.\\nObserved an apple at position [3, 22]. This apple belongs to tree 4.\\nObserved grass to grow apples at position [2, 22]. This grass belongs to tree 4.\\nObserved tree 4 at position [1, 21]. This tree has 1 apples remaining and 3 grass for apples growing on the observed map. The tree might have more apples and grass on the global map.\\nObserved grass to grow apples at position [1, 22]. This grass belongs to tree 4.',\n",
       "  'Unable to determine the actions taken by Juan between the two observations where the reward changed. Reflection made at 2024-02-22 15:00:00.',\n",
       "  'The growth of grass in certain positions is associated with the appearance of apples on the observed map. Reflection made at 2024-02-22 15:00:00.',\n",
       "  'Tree 6 has the highest number of remaining apples compared to other trees on the observed map. Reflection made at 2024-02-22 15:00:00.',\n",
       "  'I took the action \"go to position (6, 20)\" in my last turn. Since then, the following changes in the environment have been observed:\\nObserved that an apple grew at position [3, 17]. At 2024-02-22 23:00:00\\nObserved that an apple grew at position [8, 18]. At 2024-02-23 03:00:00\\nObserved that an apple grew at position [9, 19]. At 2024-02-23 06:00:00\\nObserved that an apple grew at position [4, 16]. At 2024-02-23 07:00:00\\nObserved that an apple grew at position [9, 20]. At 2024-02-23 09:00:00\\nNow it\\'s 2024-02-23 09:00:00 and the reward obtained by me is 3.0. I am at the position (6, 20) looking to the West.\\nI can currently observe the following:\\nObserved an apple at position [7, 20]. This apple belongs to tree 6.\\nObserved an apple at position [7, 19]. This apple belongs to tree 6.\\nObserved an apple at position [8, 20]. This apple belongs to tree 6.\\nObserved grass to grow apples at position [7, 21]. This grass belongs to tree 6.\\nObserved tree 6 at position [8, 20]. This tree has 9 apples remaining and 2 grass for apples growing on the observed map. The tree might have more apples and grass on the global map.\\nObserved an apple at position [8, 19]. This apple belongs to tree 6.\\nObserved an apple at position [9, 20]. This apple belongs to tree 6.\\nObserved an apple at position [8, 21]. This apple belongs to tree 6.\\nObserved an apple at position [8, 18]. This apple belongs to tree 6.\\nObserved an apple at position [9, 19]. This apple belongs to tree 6.']}"
      ]
     },
     "execution_count": 72,
     "metadata": {},
     "output_type": "execute_result"
    }
   ],
   "source": [
    "filter = {\"created_at\": {\"$eq\":\"2024-02-22 00:00:00\"}}\n",
    "# For Juan\n",
    "collections = retrieve_collections_for_agent_with_filter(database_folder, agents[0], filter)\n",
    "print(len(collections['ids']))\n",
    "collections"
   ]
  },
  {
   "cell_type": "code",
   "execution_count": 70,
   "metadata": {},
   "outputs": [
    {
     "data": {
      "text/plain": [
       "1708578000"
      ]
     },
     "execution_count": 70,
     "metadata": {},
     "output_type": "execute_result"
    }
   ],
   "source": [
    "timestamp_to_filt = collections['metadatas'][0]['timestamp']\n",
    "timestamp_to_filt"
   ]
  },
  {
   "cell_type": "code",
   "execution_count": 71,
   "metadata": {},
   "outputs": [
    {
     "name": "stdout",
     "output_type": "stream",
     "text": [
      "6\n"
     ]
    },
    {
     "data": {
      "text/plain": [
       "{'ids': ['d83396ef-d4bb-403b-99b2-3570bc307d98',\n",
       "  'b39f3ced-ea6b-4a39-b7da-dadd52f43967',\n",
       "  'ce21a0bc-db23-4128-9164-2a2b46235967',\n",
       "  'a1fc8119-0c16-4043-a68b-db1dc42d9f7a',\n",
       "  'b694633b-0c49-4a63-88fd-49ebd38dd4a5',\n",
       "  '633c1a29-fe25-4ac8-895f-5f900467f110'],\n",
       " 'embeddings': None,\n",
       " 'metadatas': [{'created_at': '2024-02-20 00:00:00',\n",
       "   'poignancy': 10,\n",
       "   'timestamp': 1708405200,\n",
       "   'type': 'perception'},\n",
       "  {'created_at': '2024-02-21 17:00:00',\n",
       "   'poignancy': 10,\n",
       "   'timestamp': 1708552800,\n",
       "   'type': 'perception'},\n",
       "  {'created_at': '2024-02-22 00:00:00',\n",
       "   'poignancy': 10,\n",
       "   'timestamp': 1708578000,\n",
       "   'type': 'perception'},\n",
       "  {'created_at': '2024-02-22 00:00:00',\n",
       "   'poignancy': 10,\n",
       "   'timestamp': 1708578000,\n",
       "   'type': 'reflection'},\n",
       "  {'created_at': '2024-02-22 00:00:00',\n",
       "   'poignancy': 10,\n",
       "   'timestamp': 1708578000,\n",
       "   'type': 'reflection'},\n",
       "  {'created_at': '2024-02-22 00:00:00',\n",
       "   'poignancy': 10,\n",
       "   'timestamp': 1708578000,\n",
       "   'type': 'reflection'}],\n",
       " 'documents': [\"Now it's 2024-02-20 00:00:00 and the reward obtained by me is 0.0. I am at the position (7, 16) looking to the South.\\nI can currently observe the following:\\nObserved an apple at position [8, 18]. This apple belongs to tree 6.\\nObserved an apple at position [7, 19]. This apple belongs to tree 6.\\nObserved an apple at position [8, 19]. This apple belongs to tree 6.\\nObserved an apple at position [7, 20]. This apple belongs to tree 6.\\nObserved an apple at position [9, 19]. This apple belongs to tree 6.\\nObserved an apple at position [8, 20]. This apple belongs to tree 6.\\nObserved an apple at position [7, 21]. This apple belongs to tree 6.\\nObserved an apple at position [6, 20]. This apple belongs to tree 6.\\nObserved tree 6 at position [8, 20]. This tree has 12 apples remaining and 0 grass for apples growing on the observed map. The tree might have more apples and grass on the global map.\\nObserved an apple at position [9, 20]. This apple belongs to tree 6.\",\n",
       "  'I took the action \"go to position (8, 18)\" in my last turn. Since then, the following changes in the environment have been observed:\\nObserved that agent Laura took an apple from position [10, 20]. At 2024-02-20 14:00:00\\nObserved that agent Laura took an apple from position [9, 20]. At 2024-02-20 15:00:00\\nObserved that agent Laura took an apple from position [8, 20]. At 2024-02-20 16:00:00\\nObserved that agent Laura took an apple from position [7, 20]. At 2024-02-20 17:00:00\\nObserved that an apple grew at position [9, 20]. At 2024-02-21 08:00:00\\nNow it\\'s 2024-02-21 17:00:00 and the reward obtained by me is 1.0. I am at the position (8, 18) looking to the South.\\nI can currently observe the following:\\nObserved an apple at position [8, 19]. This apple belongs to tree 6.\\nObserved an apple at position [9, 19]. This apple belongs to tree 6.\\nObserved grass to grow apples at position [8, 20]. This grass belongs to tree 6.\\nObserved an apple at position [7, 19]. This apple belongs to tree 6.\\nObserved tree 6 at position [8, 20]. This tree has 8 apples remaining and 3 grass for apples growing on the observed map. The tree might have more apples and grass on the global map.\\nObserved an apple at position [9, 20]. This apple belongs to tree 6.\\nObserved an apple at position [8, 21]. This apple belongs to tree 6.\\nObserved grass to grow apples at position [7, 20]. This grass belongs to tree 6.\\nObserved grass to grow apples at position [10, 20]. This grass belongs to tree 6.\\nObserved an apple at position [9, 21]. This apple belongs to tree 6.',\n",
       "  'I took the action \"go to position (8, 20)\" in my last turn. Now it\\'s 2024-02-22 00:00:00 and the reward obtained by me is 2.0. I am at the position (8, 20) looking to the East.\\nI can currently observe the following:\\nObserved tree 6 at position [8, 20]. This tree has 7 apples remaining and 4 grass for apples growing on the observed map. The tree might have more apples and grass on the global map.\\nObserved an apple at position [8, 21]. This apple belongs to tree 6.\\nObserved grass to grow apples at position [7, 20]. This grass belongs to tree 6.\\nObserved an apple at position [9, 20]. This apple belongs to tree 6.\\nObserved grass to grow apples at position [8, 19]. This grass belongs to tree 6.\\nObserved an apple at position [8, 22]. This apple belongs to tree 6.\\nObserved an apple at position [7, 21]. This apple belongs to tree 6.\\nObserved an apple at position [9, 21]. This apple belongs to tree 6.\\nObserved grass to grow apples at position [6, 20]. This grass belongs to tree 6.\\nObserved grass to grow apples at position [10, 20]. This grass belongs to tree 6.',\n",
       "  'Agent Laura took the apples from tree 6 at the following positions and timestamps: [10, 20] at 2024-02-20 14:00:00, [9, 20] at 2024-02-20 15:00:00, [8, 20] at 2024-02-20 16:00:00, and [7, 20] at 2024-02-20 17:00:00. Reflection made at 2024-02-22 00:00:00.',\n",
       "  'The apple at position [9, 20] grew at 2024-02-21 08:00:00. Reflection made at 2024-02-22 00:00:00.',\n",
       "  'The timestamps and reward values of the rewards obtained by Juan are as follows: 2024-02-20 00:00:00 - 0.0 reward; 2024-02-21 17:00:00 - 1.0 reward; 2024-02-22 00:00:00 - 2.0 reward. Reflection made at 2024-02-22 00:00:00.']}"
      ]
     },
     "execution_count": 71,
     "metadata": {},
     "output_type": "execute_result"
    }
   ],
   "source": [
    "tp_filter = {\"timestamp\": {\"$lte\":timestamp_to_filt}}\n",
    "collections_lte = retrieve_collections_for_agent_with_filter(database_folder, agents[0], filter=tp_filter)\n",
    "print(len(collections_lte['ids']))\n",
    "collections_lte "
   ]
  }
 ],
 "metadata": {
  "kernelspec": {
   "display_name": "envMP",
   "language": "python",
   "name": "python3"
  },
  "language_info": {
   "codemirror_mode": {
    "name": "ipython",
    "version": 3
   },
   "file_extension": ".py",
   "mimetype": "text/x-python",
   "name": "python",
   "nbconvert_exporter": "python",
   "pygments_lexer": "ipython3",
   "version": "3.10.13"
  }
 },
 "nbformat": 4,
 "nbformat_minor": 2
}
